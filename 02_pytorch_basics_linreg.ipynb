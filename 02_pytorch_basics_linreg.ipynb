{
 "cells": [
  {
   "cell_type": "markdown",
   "metadata": {},
   "source": [
    "# Machine Learning - SS20\n",
    "## Tutorial 02 - PyTorch Basics + Linear Regression\n",
    "\n",
    "* Lecturer: Prof. Dr. Volker Tresp\n",
    "* Assistants: Christian Frey, Danyial Kazempour\n",
    "---"
   ]
  },
  {
   "cell_type": "markdown",
   "metadata": {},
   "source": [
    "In this tutorial we have to solve basic tasks in pytorch and also a linear regression problem using both, an analytical solution as well as iteratively learning a linear regression model. It is recommended to look up the basic learning procedure in pytorch and how the forward methods for learning a model can be used. Let's code!"
   ]
  },
  {
   "cell_type": "markdown",
   "metadata": {},
   "source": [
    "#### Load dependencies"
   ]
  },
  {
   "cell_type": "code",
   "execution_count": 3,
   "metadata": {},
   "outputs": [
    {
     "data": {
      "text/plain": [
       "'1.8.1+cpu'"
      ]
     },
     "execution_count": 3,
     "metadata": {},
     "output_type": "execute_result"
    }
   ],
   "source": [
    "import torch\n",
    "import torch.autograd as autograd\n",
    "import matplotlib.pyplot as plt\n",
    "import numpy as np\n",
    "torch.__version__"
   ]
  },
  {
   "cell_type": "markdown",
   "metadata": {},
   "source": [
    "### 1. Basics"
   ]
  },
  {
   "cell_type": "markdown",
   "metadata": {},
   "source": [
    "#### a) Create a tensor of shape (2, 5, 5) with random numbers from a standard normal distribution! Print the shape!"
   ]
  },
  {
   "cell_type": "code",
   "execution_count": 10,
   "metadata": {},
   "outputs": [
    {
     "data": {
      "text/plain": [
       "(2, 5, 5)"
      ]
     },
     "execution_count": 10,
     "metadata": {},
     "output_type": "execute_result"
    }
   ],
   "source": [
    "t = np.random.rand(2,5,5)\n",
    "t.shape"
   ]
  },
  {
   "cell_type": "markdown",
   "metadata": {},
   "source": [
    "#### b) Create a tensor with floats from the following matrix"
   ]
  },
  {
   "cell_type": "code",
   "execution_count": 6,
   "metadata": {},
   "outputs": [],
   "source": [
    "M = [[1, 2, 3], [4, 5, 6]]"
   ]
  },
  {
   "cell_type": "code",
   "execution_count": 13,
   "metadata": {},
   "outputs": [
    {
     "name": "stdout",
     "output_type": "stream",
     "text": [
      "(2, 3)\n",
      "[[1. 2. 3.]\n",
      " [4. 5. 6.]]\n"
     ]
    }
   ],
   "source": [
    "t = np.array(M)\n",
    "t = t.astype(np.float)\n",
    "print(t.shape)\n",
    "print(t)"
   ]
  },
  {
   "cell_type": "markdown",
   "metadata": {},
   "source": [
    "#### c) Get the 2nd column and the 1st row of the tensor matrix created in b) respectively"
   ]
  },
  {
   "cell_type": "code",
   "execution_count": 17,
   "metadata": {},
   "outputs": [
    {
     "name": "stdout",
     "output_type": "stream",
     "text": [
      "[2. 5.]\n",
      "[1. 2. 3.]\n"
     ]
    }
   ],
   "source": [
    "col_2 = t[:,1]\n",
    "print(col_2)\n",
    "\n",
    "row_1 = t[0,:]\n",
    "print(row_1)"
   ]
  },
  {
   "cell_type": "markdown",
   "metadata": {},
   "source": [
    "#### d) Reshape the following tensor to become two dimensional with shape = (9, 3) and get the mean per column"
   ]
  },
  {
   "cell_type": "code",
   "execution_count": 19,
   "metadata": {},
   "outputs": [
    {
     "name": "stdout",
     "output_type": "stream",
     "text": [
      "tensor([[[-0.5954, -0.8914, -1.4172],\n",
      "         [ 0.9950, -0.6233,  1.3480],\n",
      "         [ 0.3860,  0.2245, -0.5414]],\n",
      "\n",
      "        [[-2.0364,  0.3691, -0.7559],\n",
      "         [ 1.4312, -2.4544,  0.1835],\n",
      "         [ 0.1177, -0.8576,  0.9310]],\n",
      "\n",
      "        [[-0.0182,  0.0992, -2.7535],\n",
      "         [-1.3388,  1.4872,  0.1755],\n",
      "         [ 1.6772,  0.0261,  0.0613]]])\n"
     ]
    }
   ],
   "source": [
    "x = torch.randn(3, 3, 3)\n",
    "print(x)"
   ]
  },
  {
   "cell_type": "code",
   "execution_count": 20,
   "metadata": {},
   "outputs": [
    {
     "data": {
      "text/plain": [
       "tensor([[-0.5954, -0.8914, -1.4172],\n",
       "        [ 0.9950, -0.6233,  1.3480],\n",
       "        [ 0.3860,  0.2245, -0.5414],\n",
       "        [-2.0364,  0.3691, -0.7559],\n",
       "        [ 1.4312, -2.4544,  0.1835],\n",
       "        [ 0.1177, -0.8576,  0.9310],\n",
       "        [-0.0182,  0.0992, -2.7535],\n",
       "        [-1.3388,  1.4872,  0.1755],\n",
       "        [ 1.6772,  0.0261,  0.0613]])"
      ]
     },
     "execution_count": 20,
     "metadata": {},
     "output_type": "execute_result"
    }
   ],
   "source": [
    "reshaped = torch.reshape(x, (9,3))\n",
    "reshaped"
   ]
  },
  {
   "cell_type": "markdown",
   "metadata": {},
   "source": [
    "#### e) Convert the following tensor into a numpy tensor"
   ]
  },
  {
   "cell_type": "code",
   "execution_count": 22,
   "metadata": {},
   "outputs": [
    {
     "name": "stdout",
     "output_type": "stream",
     "text": [
      "tensor([1., 1., 1., 1., 1., 1., 1., 1., 1., 1.])\n"
     ]
    }
   ],
   "source": [
    "t = torch.ones(10)\n",
    "print(t)"
   ]
  },
  {
   "cell_type": "code",
   "execution_count": 23,
   "metadata": {},
   "outputs": [
    {
     "data": {
      "text/plain": [
       "array([1., 1., 1., 1., 1., 1., 1., 1., 1., 1.], dtype=float32)"
      ]
     },
     "execution_count": 23,
     "metadata": {},
     "output_type": "execute_result"
    }
   ],
   "source": [
    "np_tensor = t.cpu().detach().numpy()\n",
    "np_tensor"
   ]
  },
  {
   "cell_type": "markdown",
   "metadata": {},
   "source": [
    "### 2. Gradients with PyTorch"
   ]
  },
  {
   "cell_type": "markdown",
   "metadata": {},
   "source": [
    "#### In the following cell, get the gradients of s with respect to x and y respectively. Play around with other functions/gradients"
   ]
  },
  {
   "cell_type": "code",
   "execution_count": 26,
   "metadata": {},
   "outputs": [
    {
     "data": {
      "text/plain": [
       "torch.Tensor"
      ]
     },
     "execution_count": 26,
     "metadata": {},
     "output_type": "execute_result"
    }
   ],
   "source": [
    "#calculate gradients\n",
    "x = torch.tensor([1., 2., 3.]).requires_grad_()\n",
    "y = torch.tensor([4., 5., 6.]).requires_grad_()\n",
    "z = 2*x + y**2\n",
    "s = z.sum()\n",
    "#print(z.grad_fn)\n",
    "#print(s.grad_fn)\n",
    "type(z)"
   ]
  },
  {
   "cell_type": "code",
   "execution_count": null,
   "metadata": {},
   "outputs": [],
   "source": [
    "<fill_in>"
   ]
  },
  {
   "cell_type": "markdown",
   "metadata": {},
   "source": [
    "### 3. Simple Linear Regression"
   ]
  },
  {
   "cell_type": "markdown",
   "metadata": {},
   "source": [
    "#### a) Solve the following linear regression problem analytically.  Compare the result for different values of n!"
   ]
  },
  {
   "cell_type": "code",
   "execution_count": 30,
   "metadata": {},
   "outputs": [
    {
     "data": {
      "image/png": "[encoded data removed]",
      "text/plain": [
       "<Figure size 432x288 with 1 Axes>"
      ]
     },
     "metadata": {
      "needs_background": "light"
     },
     "output_type": "display_data"
    }
   ],
   "source": [
    "torch.manual_seed(3)\n",
    "\n",
    "n = 100\n",
    "d = 1\n",
    "x = torch.FloatTensor(n, d).uniform_(0, 10)\n",
    "noise = torch.FloatTensor(n, d).normal_(0, 1)\n",
    "\n",
    "t = 2    #intercept \n",
    "m = 1.5  #slope\n",
    "\n",
    "\n",
    "y = m*x + t + noise\n",
    "r = m*x + t #regression line, just for plotting\n",
    "\n",
    "plt.scatter(x, y)\n",
    "plt.plot(x.numpy(), r.numpy(), 'r')\n",
    "plt.show()"
   ]
  },
  {
   "cell_type": "code",
   "execution_count": null,
   "metadata": {},
   "outputs": [],
   "source": [
    "<fill_in>"
   ]
  },
  {
   "cell_type": "markdown",
   "metadata": {},
   "source": [
    "#### b) Fill in the missing parts of the LinearRegression model below.\n",
    "The forward method should just return a linear function of x. <br>\n",
    "Train the model to learn the parameters above! <br> See what happens for different learning rates!"
   ]
  },
  {
   "cell_type": "code",
   "execution_count": 36,
   "metadata": {},
   "outputs": [],
   "source": [
    "import torch.nn as nn\n",
    "import math\n",
    "from torch.autograd import Variable"
   ]
  },
  {
   "cell_type": "code",
   "execution_count": 43,
   "metadata": {},
   "outputs": [
    {
     "name": "stdout",
     "output_type": "stream",
     "text": [
      "tensor(24.8368, grad_fn=<MseLossBackward>)\n",
      "epoch 0, loss 24.836830139160156\n",
      "tensor(5.6593, grad_fn=<MseLossBackward>)\n",
      "epoch 1, loss 5.659317493438721\n",
      "tensor(2.4383, grad_fn=<MseLossBackward>)\n",
      "epoch 2, loss 2.4382517337799072\n",
      "tensor(1.8927, grad_fn=<MseLossBackward>)\n",
      "epoch 3, loss 1.8927420377731323\n",
      "tensor(1.7959, grad_fn=<MseLossBackward>)\n",
      "epoch 4, loss 1.7959223985671997\n",
      "tensor(1.7744, grad_fn=<MseLossBackward>)\n",
      "epoch 5, loss 1.7744008302688599\n",
      "tensor(1.7656, grad_fn=<MseLossBackward>)\n",
      "epoch 6, loss 1.7655688524246216\n",
      "tensor(1.7589, grad_fn=<MseLossBackward>)\n",
      "epoch 7, loss 1.7589271068572998\n",
      "tensor(1.7527, grad_fn=<MseLossBackward>)\n",
      "epoch 8, loss 1.7527153491973877\n",
      "tensor(1.7466, grad_fn=<MseLossBackward>)\n",
      "epoch 9, loss 1.7466366291046143\n"
     ]
    }
   ],
   "source": [
    "class LinearRegression(nn.Module):\n",
    "\n",
    "    def __init__(self, in_dim, out_dim):\n",
    "\n",
    "        super(LinearRegression, self).__init__() \n",
    "        # Calling Super Class's constructor\n",
    "        self.linear = nn.Linear(in_dim, out_dim)\n",
    "\n",
    "    def forward(self, x):\n",
    "        out = self.linear(x)\n",
    "        return out\n",
    "\n",
    "# input dimension\n",
    "IN_DIM = 1\n",
    "# output dimension\n",
    "OUT_DIM = 1\n",
    "\n",
    "learning_rate = 0.01\n",
    "epochs = 100\n",
    "\n",
    "x_train = x.cpu().detach().numpy()\n",
    "y_train = y.cpu().detach().numpy()\n",
    "\n",
    "#1. Create instance of model \n",
    "model = LinearRegression(IN_DIM, OUT_DIM)\n",
    "\n",
    "#2. Define Loss\n",
    "# mean squared error loss function\n",
    "loss = nn.MSELoss()\n",
    "\n",
    "#3. Setup Training with stochastic gradient descent and custom learning rate\n",
    "optimizer = torch.optim.SGD(model.parameters(), lr=learning_rate)\n",
    "\n",
    "#4. Train the model\n",
    "for epoch in range(epochs):\n",
    "    inputs = Variable(torch.from_numpy(x_train))\n",
    "    labels = Variable(torch.from_numpy(y_train))\n",
    "    \n",
    "    # Clear gradient buffers because we don't want any gradient from previous epoch to carry forward,\n",
    "    #dont want to cummulate gradients\n",
    "    optimizer.zero_grad()\n",
    "    \n",
    "    # get output from the model, given the inputs\n",
    "    outputs = model(inputs)\n",
    "\n",
    "    # get loss for the predicted output\n",
    "    loss_val = loss(outputs, labels)\n",
    "    print(loss_val)\n",
    "    # get gradients w.r.t to parameters\n",
    "    loss_val.backward()\n",
    "\n",
    "    # update parameters\n",
    "    optimizer.step()\n",
    "\n",
    "    #print('epoch {}, loss {}'.format(epoch, loss_val.item()))"
   ]
  },
  {
   "cell_type": "markdown",
   "metadata": {},
   "source": [
    "#### c) Print the learned parameters"
   ]
  },
  {
   "cell_type": "code",
   "execution_count": 49,
   "metadata": {},
   "outputs": [
    {
     "name": "stdout",
     "output_type": "stream",
     "text": [
      "Loss: 1.7466366291046143\n",
      "Parameters: <generator object Module.parameters at 0x000001FC9D5F93C0>\n"
     ]
    }
   ],
   "source": [
    "print(f\"Loss: {loss_val.item()}\")\n",
    "print(f\"Parameters: {model.parameters()}\")"
   ]
  },
  {
   "cell_type": "markdown",
   "metadata": {},
   "source": [
    "#### d) Apply the trained model to x and plot the predictions along with the true values in a scatter plot"
   ]
  },
  {
   "cell_type": "code",
   "execution_count": 47,
   "metadata": {},
   "outputs": [
    {
     "data": {
      "image/png": "[encoded data removed]",
      "text/plain": [
       "<Figure size 432x288 with 1 Axes>"
      ]
     },
     "metadata": {
      "needs_background": "light"
     },
     "output_type": "display_data"
    }
   ],
   "source": [
    "predictions = model(Variable(torch.from_numpy(x_train))).data.numpy()\n",
    "#print(predictions)\n",
    "\n",
    "plt.clf()\n",
    "plt.plot(x_train, y_train, 'go', label='True data', alpha=0.5)\n",
    "plt.plot(x_train, predictions, '--', label='Predictions', alpha=0.5)\n",
    "plt.legend(loc='best')\n",
    "plt.show()"
   ]
  },
  {
   "cell_type": "markdown",
   "metadata": {},
   "source": [
    "# End of this Tutorial"
   ]
  }
 ],
 "metadata": {
  "kernelspec": {
   "display_name": "Python 3",
   "language": "python",
   "name": "python3"
  },
  "language_info": {
   "codemirror_mode": {
    "name": "ipython",
    "version": 3
   },
   "file_extension": ".py",
   "mimetype": "text/x-python",
   "name": "python",
   "nbconvert_exporter": "python",
   "pygments_lexer": "ipython3",
   "version": "3.8.3"
  }
 },
 "nbformat": 4,
 "nbformat_minor": 2
}
